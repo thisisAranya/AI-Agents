{
 "cells": [
  {
   "cell_type": "code",
   "execution_count": 40,
   "metadata": {
    "_cell_guid": "b1076dfc-b9ad-4769-8c92-a6c4dae69d19",
    "_uuid": "8f2839f25d086af736a60e9eeb907d3b93b6e0e5",
    "execution": {
     "iopub.execute_input": "2025-01-12T21:00:29.053616Z",
     "iopub.status.busy": "2025-01-12T21:00:29.053213Z",
     "iopub.status.idle": "2025-01-12T21:00:29.059658Z",
     "shell.execute_reply": "2025-01-12T21:00:29.058720Z",
     "shell.execute_reply.started": "2025-01-12T21:00:29.053588Z"
    },
    "trusted": true
   },
   "outputs": [
    {
     "name": "stdout",
     "output_type": "stream",
     "text": [
      "Text file created successfully!\n"
     ]
    }
   ],
   "source": [
    "# Create and write to a text file\n",
    "with open(\"requirements.txt\", \"w\") as file:\n",
    "    file.write(\"phidata\\n\")\n",
    "    file.write(\"python-dotenv\\n\")\n",
    "    file.write(\"yfinance\\n\")\n",
    "    file.write(\"packaging\\n\")\n",
    "    file.write(\"duckduckgo-search\\n\") #websearch tool\n",
    "    file.write(\"fastapi\\n\") \n",
    "    file.write(\"uvicorn\\n\")\n",
    "    file.write(\"groq\\n\") # open source libraries and api\n",
    "    file.write(\"openai\\n\")\n",
    "\n",
    "print(\"Text file created successfully!\")"
   ]
  },
  {
   "cell_type": "code",
   "execution_count": 41,
   "metadata": {
    "execution": {
     "iopub.execute_input": "2025-01-12T21:00:29.061090Z",
     "iopub.status.busy": "2025-01-12T21:00:29.060793Z",
     "iopub.status.idle": "2025-01-12T21:00:29.076010Z",
     "shell.execute_reply": "2025-01-12T21:00:29.075206Z",
     "shell.execute_reply.started": "2025-01-12T21:00:29.061061Z"
    },
    "trusted": true
   },
   "outputs": [],
   "source": [
    "!pip install -r requirements.txt"
   ]
  },
  {
   "cell_type": "code",
   "execution_count": 43,
   "metadata": {
    "execution": {
     "iopub.execute_input": "2025-01-12T21:00:29.095722Z",
     "iopub.status.busy": "2025-01-12T21:00:29.095529Z",
     "iopub.status.idle": "2025-01-12T21:00:29.111401Z",
     "shell.execute_reply": "2025-01-12T21:00:29.110684Z",
     "shell.execute_reply.started": "2025-01-12T21:00:29.095705Z"
    },
    "trusted": true
   },
   "outputs": [],
   "source": [
    "import os\n",
    "os.environ['PHI_API_KEY'] = PHI_API_KEY\n",
    "os.environ['GROQ_API_KEY'] = GROQ_API_KEY\n",
    "os.environ['OPENAI_API_KEY'] = OPENAI_API_KEY"
   ]
  },
  {
   "cell_type": "code",
   "execution_count": 44,
   "metadata": {
    "execution": {
     "iopub.execute_input": "2025-01-12T21:00:29.112426Z",
     "iopub.status.busy": "2025-01-12T21:00:29.112157Z",
     "iopub.status.idle": "2025-01-12T21:00:29.126633Z",
     "shell.execute_reply": "2025-01-12T21:00:29.125959Z",
     "shell.execute_reply.started": "2025-01-12T21:00:29.112395Z"
    },
    "trusted": true
   },
   "outputs": [],
   "source": [
    "from phi.agent import Agent\n",
    "from phi.model.groq import Groq\n",
    "from phi.tools.yfinance import YFinanceTools\n",
    "from phi.tools.duckduckgo import DuckDuckGo\n",
    "from dotenv import load_dotenv\n",
    "\n",
    "load_dotenv()\n",
    "\n",
    "model_id = 'llama-3.3-70b-versatile'\n",
    "\n",
    "# Web Search Agent\n",
    "websearch_agent = Agent(\n",
    "    name = 'web search agent',\n",
    "    role = 'Search the web for the information',\n",
    "    model = Groq(id = model_id),\n",
    "    tools = [DuckDuckGo()],\n",
    "    instructions = [\"Always include the sources\"],\n",
    "    show_tools_calls = True,\n",
    "    markdown = True\n",
    ")\n",
    "\n",
    "# Financial Agent\n",
    "finance_agent = Agent(\n",
    "    name = 'Finance AI Agent',\n",
    "    model = Groq(id = model_id),\n",
    "    tools = [\n",
    "        YFinanceTools(stock_price = True,\n",
    "                      analyst_recommendations = True,\n",
    "                      stock_fundamentals = True, \n",
    "                      company_news = True)\n",
    "    ],\n",
    "    instructions = ['Use tables to display the data'],\n",
    "    show_tool_calls = True,\n",
    "    markdown = True\n",
    ")\n",
    "\n",
    "# Multimodal Agent\n",
    "multimodal_agent = Agent(\n",
    "    team = [websearch_agent, finance_agent],\n",
    "    instructions = ['Always include sources', 'Use table to display data'],\n",
    "    show_tool_calls = True,\n",
    "    model = Groq(id = model_id),\n",
    "    markdown = True\n",
    ")"
   ]
  },
  {
   "cell_type": "code",
   "execution_count": 45,
   "metadata": {
    "execution": {
     "iopub.execute_input": "2025-01-12T21:00:29.128044Z",
     "iopub.status.busy": "2025-01-12T21:00:29.127837Z",
     "iopub.status.idle": "2025-01-12T21:02:29.314572Z",
     "shell.execute_reply": "2025-01-12T21:02:29.313856Z",
     "shell.execute_reply.started": "2025-01-12T21:00:29.128025Z"
    },
    "trusted": true
   },
   "outputs": [
    {
     "data": {
      "application/vnd.jupyter.widget-view+json": {
       "model_id": "441b3181069c40848ab6909ed19062ec",
       "version_major": 2,
       "version_minor": 0
      },
      "text/plain": [
       "Output()"
      ]
     },
     "metadata": {},
     "output_type": "display_data"
    },
    {
     "data": {
      "text/html": [
       "<pre style=\"white-space:pre;overflow-x:auto;line-height:normal;font-family:Menlo,'DejaVu Sans Mono',consolas,'Courier New',monospace\"></pre>\n"
      ],
      "text/plain": []
     },
     "metadata": {},
     "output_type": "display_data"
    }
   ],
   "source": [
    "multimodal_agent.print_response(\n",
    "    'Compare NVIDIA and META and provide analyst recommendations', stream=True\n",
    ")"
   ]
  }
 ],
 "metadata": {
  "kaggle": {
   "accelerator": "gpu",
   "dataSources": [],
   "dockerImageVersionId": 30823,
   "isGpuEnabled": true,
   "isInternetEnabled": true,
   "language": "python",
   "sourceType": "notebook"
  },
  "kernelspec": {
   "display_name": "Python 3",
   "language": "python",
   "name": "python3"
  },
  "language_info": {
   "codemirror_mode": {
    "name": "ipython",
    "version": 3
   },
   "file_extension": ".py",
   "mimetype": "text/x-python",
   "name": "python",
   "nbconvert_exporter": "python",
   "pygments_lexer": "ipython3",
   "version": "3.10.12"
  }
 },
 "nbformat": 4,
 "nbformat_minor": 4
}
